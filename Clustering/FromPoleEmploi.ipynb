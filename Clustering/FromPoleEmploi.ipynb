{
 "cells": [
  {
   "cell_type": "markdown",
   "metadata": {},
   "source": [
    "# Part 1 : Getting a list of jobs per ROME\n",
    "\n",
    "From the ROM_ArboPrincipale.csv given by Pole Emploie, we'll make an other file storing all the jobs linked to a ROME.  "
   ]
  },
  {
   "cell_type": "code",
   "execution_count": 1,
   "metadata": {},
   "outputs": [],
   "source": [
    "# -- coding: utf-8 --\n",
    "import pandas as pd \n",
    "\n",
    "ROME_arbo = pd.read_csv(\"DB/PE/ROME_ArboPrincipale.csv\", encoding='UTF-8', error_bad_lines=False, sep=\";\")"
   ]
  },
  {
   "cell_type": "code",
   "execution_count": 2,
   "metadata": {},
   "outputs": [
    {
     "data": {
      "text/html": [
       "<div>\n",
       "<style scoped>\n",
       "    .dataframe tbody tr th:only-of-type {\n",
       "        vertical-align: middle;\n",
       "    }\n",
       "\n",
       "    .dataframe tbody tr th {\n",
       "        vertical-align: top;\n",
       "    }\n",
       "\n",
       "    .dataframe thead th {\n",
       "        text-align: right;\n",
       "    }\n",
       "</style>\n",
       "<table border=\"1\" class=\"dataframe\">\n",
       "  <thead>\n",
       "    <tr style=\"text-align: right;\">\n",
       "      <th></th>\n",
       "      <th>Lettre</th>\n",
       "      <th>deuxD</th>\n",
       "      <th>unD</th>\n",
       "      <th>nom</th>\n",
       "      <th>Code OGR</th>\n",
       "    </tr>\n",
       "  </thead>\n",
       "  <tbody>\n",
       "    <tr>\n",
       "      <th>0</th>\n",
       "      <td>A</td>\n",
       "      <td></td>\n",
       "      <td></td>\n",
       "      <td>Agriculture et Pêche, Espaces naturels et Espa...</td>\n",
       "      <td></td>\n",
       "    </tr>\n",
       "    <tr>\n",
       "      <th>1</th>\n",
       "      <td>A</td>\n",
       "      <td>11</td>\n",
       "      <td></td>\n",
       "      <td>Engins agricoles et forestiers</td>\n",
       "      <td></td>\n",
       "    </tr>\n",
       "    <tr>\n",
       "      <th>2</th>\n",
       "      <td>A</td>\n",
       "      <td>11</td>\n",
       "      <td>01</td>\n",
       "      <td>Conduite d'engins agricoles et forestiers</td>\n",
       "      <td></td>\n",
       "    </tr>\n",
       "    <tr>\n",
       "      <th>3</th>\n",
       "      <td>A</td>\n",
       "      <td>11</td>\n",
       "      <td>01</td>\n",
       "      <td>Chauffeur / Chauffeuse de machines agricoles</td>\n",
       "      <td>11987</td>\n",
       "    </tr>\n",
       "    <tr>\n",
       "      <th>4</th>\n",
       "      <td>A</td>\n",
       "      <td>11</td>\n",
       "      <td>01</td>\n",
       "      <td>Conducteur / Conductrice d'abatteuses</td>\n",
       "      <td>12862</td>\n",
       "    </tr>\n",
       "    <tr>\n",
       "      <th>...</th>\n",
       "      <td>...</td>\n",
       "      <td>...</td>\n",
       "      <td>...</td>\n",
       "      <td>...</td>\n",
       "      <td>...</td>\n",
       "    </tr>\n",
       "    <tr>\n",
       "      <th>11722</th>\n",
       "      <td>N</td>\n",
       "      <td>44</td>\n",
       "      <td>03</td>\n",
       "      <td>Opérateur / Opératrice de branchement du résea...</td>\n",
       "      <td>17064</td>\n",
       "    </tr>\n",
       "    <tr>\n",
       "      <th>11723</th>\n",
       "      <td>N</td>\n",
       "      <td>44</td>\n",
       "      <td>03</td>\n",
       "      <td>Opérateur / Opératrice de manoeuvre du réseau ...</td>\n",
       "      <td>17119</td>\n",
       "    </tr>\n",
       "    <tr>\n",
       "      <th>11724</th>\n",
       "      <td>N</td>\n",
       "      <td>44</td>\n",
       "      <td>03</td>\n",
       "      <td>Opérateur / Opératrice de production du réseau...</td>\n",
       "      <td>17150</td>\n",
       "    </tr>\n",
       "    <tr>\n",
       "      <th>11725</th>\n",
       "      <td>N</td>\n",
       "      <td>44</td>\n",
       "      <td>03</td>\n",
       "      <td>Opérateur / Opératrice fret du réseau ferré</td>\n",
       "      <td>17231</td>\n",
       "    </tr>\n",
       "    <tr>\n",
       "      <th>11726</th>\n",
       "      <td>N</td>\n",
       "      <td>44</td>\n",
       "      <td>03</td>\n",
       "      <td>Opérateur / Opératrice triage du réseau ferré</td>\n",
       "      <td>17346</td>\n",
       "    </tr>\n",
       "  </tbody>\n",
       "</table>\n",
       "<p>11727 rows × 5 columns</p>\n",
       "</div>"
      ],
      "text/plain": [
       "      Lettre deuxD unD                                                nom  \\\n",
       "0          A            Agriculture et Pêche, Espaces naturels et Espa...   \n",
       "1          A    11                         Engins agricoles et forestiers   \n",
       "2          A    11  01          Conduite d'engins agricoles et forestiers   \n",
       "3          A    11  01       Chauffeur / Chauffeuse de machines agricoles   \n",
       "4          A    11  01              Conducteur / Conductrice d'abatteuses   \n",
       "...      ...   ...  ..                                                ...   \n",
       "11722      N    44  03  Opérateur / Opératrice de branchement du résea...   \n",
       "11723      N    44  03  Opérateur / Opératrice de manoeuvre du réseau ...   \n",
       "11724      N    44  03  Opérateur / Opératrice de production du réseau...   \n",
       "11725      N    44  03        Opérateur / Opératrice fret du réseau ferré   \n",
       "11726      N    44  03      Opérateur / Opératrice triage du réseau ferré   \n",
       "\n",
       "      Code OGR  \n",
       "0               \n",
       "1               \n",
       "2               \n",
       "3        11987  \n",
       "4        12862  \n",
       "...        ...  \n",
       "11722    17064  \n",
       "11723    17119  \n",
       "11724    17150  \n",
       "11725    17231  \n",
       "11726    17346  \n",
       "\n",
       "[11727 rows x 5 columns]"
      ]
     },
     "execution_count": 2,
     "metadata": {},
     "output_type": "execute_result"
    }
   ],
   "source": [
    "ROME_arbo"
   ]
  },
  {
   "cell_type": "markdown",
   "metadata": {},
   "source": [
    "Here, we'll need only the rows with an OGR code. These are the jobs. "
   ]
  },
  {
   "cell_type": "code",
   "execution_count": 3,
   "metadata": {},
   "outputs": [
    {
     "data": {
      "text/html": [
       "<div>\n",
       "<style scoped>\n",
       "    .dataframe tbody tr th:only-of-type {\n",
       "        vertical-align: middle;\n",
       "    }\n",
       "\n",
       "    .dataframe tbody tr th {\n",
       "        vertical-align: top;\n",
       "    }\n",
       "\n",
       "    .dataframe thead th {\n",
       "        text-align: right;\n",
       "    }\n",
       "</style>\n",
       "<table border=\"1\" class=\"dataframe\">\n",
       "  <thead>\n",
       "    <tr style=\"text-align: right;\">\n",
       "      <th></th>\n",
       "      <th>Lettre</th>\n",
       "      <th>deuxD</th>\n",
       "      <th>unD</th>\n",
       "      <th>nom</th>\n",
       "      <th>Code OGR</th>\n",
       "    </tr>\n",
       "  </thead>\n",
       "  <tbody>\n",
       "    <tr>\n",
       "      <th>3</th>\n",
       "      <td>A</td>\n",
       "      <td>11</td>\n",
       "      <td>01</td>\n",
       "      <td>Chauffeur / Chauffeuse de machines agricoles</td>\n",
       "      <td>11987</td>\n",
       "    </tr>\n",
       "    <tr>\n",
       "      <th>4</th>\n",
       "      <td>A</td>\n",
       "      <td>11</td>\n",
       "      <td>01</td>\n",
       "      <td>Conducteur / Conductrice d'abatteuses</td>\n",
       "      <td>12862</td>\n",
       "    </tr>\n",
       "    <tr>\n",
       "      <th>5</th>\n",
       "      <td>A</td>\n",
       "      <td>11</td>\n",
       "      <td>01</td>\n",
       "      <td>Conducteur / Conductrice d'automoteur de récolte</td>\n",
       "      <td>38874</td>\n",
       "    </tr>\n",
       "    <tr>\n",
       "      <th>6</th>\n",
       "      <td>A</td>\n",
       "      <td>11</td>\n",
       "      <td>01</td>\n",
       "      <td>Conducteur / Conductrice d'engins d'exploitati...</td>\n",
       "      <td>13254</td>\n",
       "    </tr>\n",
       "    <tr>\n",
       "      <th>7</th>\n",
       "      <td>A</td>\n",
       "      <td>11</td>\n",
       "      <td>01</td>\n",
       "      <td>Conducteur / Conductrice d'engins d'exploitati...</td>\n",
       "      <td>13255</td>\n",
       "    </tr>\n",
       "    <tr>\n",
       "      <th>...</th>\n",
       "      <td>...</td>\n",
       "      <td>...</td>\n",
       "      <td>...</td>\n",
       "      <td>...</td>\n",
       "      <td>...</td>\n",
       "    </tr>\n",
       "    <tr>\n",
       "      <th>11722</th>\n",
       "      <td>N</td>\n",
       "      <td>44</td>\n",
       "      <td>03</td>\n",
       "      <td>Opérateur / Opératrice de branchement du résea...</td>\n",
       "      <td>17064</td>\n",
       "    </tr>\n",
       "    <tr>\n",
       "      <th>11723</th>\n",
       "      <td>N</td>\n",
       "      <td>44</td>\n",
       "      <td>03</td>\n",
       "      <td>Opérateur / Opératrice de manoeuvre du réseau ...</td>\n",
       "      <td>17119</td>\n",
       "    </tr>\n",
       "    <tr>\n",
       "      <th>11724</th>\n",
       "      <td>N</td>\n",
       "      <td>44</td>\n",
       "      <td>03</td>\n",
       "      <td>Opérateur / Opératrice de production du réseau...</td>\n",
       "      <td>17150</td>\n",
       "    </tr>\n",
       "    <tr>\n",
       "      <th>11725</th>\n",
       "      <td>N</td>\n",
       "      <td>44</td>\n",
       "      <td>03</td>\n",
       "      <td>Opérateur / Opératrice fret du réseau ferré</td>\n",
       "      <td>17231</td>\n",
       "    </tr>\n",
       "    <tr>\n",
       "      <th>11726</th>\n",
       "      <td>N</td>\n",
       "      <td>44</td>\n",
       "      <td>03</td>\n",
       "      <td>Opérateur / Opératrice triage du réseau ferré</td>\n",
       "      <td>17346</td>\n",
       "    </tr>\n",
       "  </tbody>\n",
       "</table>\n",
       "<p>11071 rows × 5 columns</p>\n",
       "</div>"
      ],
      "text/plain": [
       "      Lettre deuxD unD                                                nom  \\\n",
       "3          A    11  01       Chauffeur / Chauffeuse de machines agricoles   \n",
       "4          A    11  01              Conducteur / Conductrice d'abatteuses   \n",
       "5          A    11  01   Conducteur / Conductrice d'automoteur de récolte   \n",
       "6          A    11  01  Conducteur / Conductrice d'engins d'exploitati...   \n",
       "7          A    11  01  Conducteur / Conductrice d'engins d'exploitati...   \n",
       "...      ...   ...  ..                                                ...   \n",
       "11722      N    44  03  Opérateur / Opératrice de branchement du résea...   \n",
       "11723      N    44  03  Opérateur / Opératrice de manoeuvre du réseau ...   \n",
       "11724      N    44  03  Opérateur / Opératrice de production du réseau...   \n",
       "11725      N    44  03        Opérateur / Opératrice fret du réseau ferré   \n",
       "11726      N    44  03      Opérateur / Opératrice triage du réseau ferré   \n",
       "\n",
       "      Code OGR  \n",
       "3        11987  \n",
       "4        12862  \n",
       "5        38874  \n",
       "6        13254  \n",
       "7        13255  \n",
       "...        ...  \n",
       "11722    17064  \n",
       "11723    17119  \n",
       "11724    17150  \n",
       "11725    17231  \n",
       "11726    17346  \n",
       "\n",
       "[11071 rows x 5 columns]"
      ]
     },
     "execution_count": 3,
     "metadata": {},
     "output_type": "execute_result"
    }
   ],
   "source": [
    "metiers = ROME_arbo[ROME_arbo['Code OGR'] != \" \"]\n",
    "metiers"
   ]
  },
  {
   "cell_type": "markdown",
   "metadata": {},
   "source": [
    "We'll add a column called ROME wich is the ROME code of a job. We'll only keep ROME and nom in the new dataframe."
   ]
  },
  {
   "cell_type": "code",
   "execution_count": 4,
   "metadata": {},
   "outputs": [
    {
     "name": "stderr",
     "output_type": "stream",
     "text": [
      "<ipython-input-4-54fdbc1b6db3>:1: SettingWithCopyWarning: \n",
      "A value is trying to be set on a copy of a slice from a DataFrame.\n",
      "Try using .loc[row_indexer,col_indexer] = value instead\n",
      "\n",
      "See the caveats in the documentation: https://pandas.pydata.org/pandas-docs/stable/user_guide/indexing.html#returning-a-view-versus-a-copy\n",
      "  metiers['ROME'] = metiers['Lettre'] + metiers['deuxD'] + metiers['unD']\n"
     ]
    }
   ],
   "source": [
    "metiers['ROME'] = metiers['Lettre'] + metiers['deuxD'] + metiers['unD']"
   ]
  },
  {
   "cell_type": "code",
   "execution_count": 5,
   "metadata": {},
   "outputs": [
    {
     "data": {
      "text/html": [
       "<div>\n",
       "<style scoped>\n",
       "    .dataframe tbody tr th:only-of-type {\n",
       "        vertical-align: middle;\n",
       "    }\n",
       "\n",
       "    .dataframe tbody tr th {\n",
       "        vertical-align: top;\n",
       "    }\n",
       "\n",
       "    .dataframe thead th {\n",
       "        text-align: right;\n",
       "    }\n",
       "</style>\n",
       "<table border=\"1\" class=\"dataframe\">\n",
       "  <thead>\n",
       "    <tr style=\"text-align: right;\">\n",
       "      <th></th>\n",
       "      <th>ROME</th>\n",
       "      <th>nom</th>\n",
       "    </tr>\n",
       "  </thead>\n",
       "  <tbody>\n",
       "    <tr>\n",
       "      <th>3</th>\n",
       "      <td>A1101</td>\n",
       "      <td>Chauffeur / Chauffeuse de machines agricoles</td>\n",
       "    </tr>\n",
       "    <tr>\n",
       "      <th>4</th>\n",
       "      <td>A1101</td>\n",
       "      <td>Conducteur / Conductrice d'abatteuses</td>\n",
       "    </tr>\n",
       "    <tr>\n",
       "      <th>5</th>\n",
       "      <td>A1101</td>\n",
       "      <td>Conducteur / Conductrice d'automoteur de récolte</td>\n",
       "    </tr>\n",
       "    <tr>\n",
       "      <th>6</th>\n",
       "      <td>A1101</td>\n",
       "      <td>Conducteur / Conductrice d'engins d'exploitati...</td>\n",
       "    </tr>\n",
       "    <tr>\n",
       "      <th>7</th>\n",
       "      <td>A1101</td>\n",
       "      <td>Conducteur / Conductrice d'engins d'exploitati...</td>\n",
       "    </tr>\n",
       "    <tr>\n",
       "      <th>...</th>\n",
       "      <td>...</td>\n",
       "      <td>...</td>\n",
       "    </tr>\n",
       "    <tr>\n",
       "      <th>11722</th>\n",
       "      <td>N4403</td>\n",
       "      <td>Opérateur / Opératrice de branchement du résea...</td>\n",
       "    </tr>\n",
       "    <tr>\n",
       "      <th>11723</th>\n",
       "      <td>N4403</td>\n",
       "      <td>Opérateur / Opératrice de manoeuvre du réseau ...</td>\n",
       "    </tr>\n",
       "    <tr>\n",
       "      <th>11724</th>\n",
       "      <td>N4403</td>\n",
       "      <td>Opérateur / Opératrice de production du réseau...</td>\n",
       "    </tr>\n",
       "    <tr>\n",
       "      <th>11725</th>\n",
       "      <td>N4403</td>\n",
       "      <td>Opérateur / Opératrice fret du réseau ferré</td>\n",
       "    </tr>\n",
       "    <tr>\n",
       "      <th>11726</th>\n",
       "      <td>N4403</td>\n",
       "      <td>Opérateur / Opératrice triage du réseau ferré</td>\n",
       "    </tr>\n",
       "  </tbody>\n",
       "</table>\n",
       "<p>11071 rows × 2 columns</p>\n",
       "</div>"
      ],
      "text/plain": [
       "        ROME                                                nom\n",
       "3      A1101       Chauffeur / Chauffeuse de machines agricoles\n",
       "4      A1101              Conducteur / Conductrice d'abatteuses\n",
       "5      A1101   Conducteur / Conductrice d'automoteur de récolte\n",
       "6      A1101  Conducteur / Conductrice d'engins d'exploitati...\n",
       "7      A1101  Conducteur / Conductrice d'engins d'exploitati...\n",
       "...      ...                                                ...\n",
       "11722  N4403  Opérateur / Opératrice de branchement du résea...\n",
       "11723  N4403  Opérateur / Opératrice de manoeuvre du réseau ...\n",
       "11724  N4403  Opérateur / Opératrice de production du réseau...\n",
       "11725  N4403        Opérateur / Opératrice fret du réseau ferré\n",
       "11726  N4403      Opérateur / Opératrice triage du réseau ferré\n",
       "\n",
       "[11071 rows x 2 columns]"
      ]
     },
     "execution_count": 5,
     "metadata": {},
     "output_type": "execute_result"
    }
   ],
   "source": [
    "metiers = metiers[['ROME','nom']]\n",
    "metiers"
   ]
  },
  {
   "cell_type": "markdown",
   "metadata": {},
   "source": [
    "Now, we want to group our rows with the same ROME together. "
   ]
  },
  {
   "cell_type": "code",
   "execution_count": 9,
   "metadata": {
    "scrolled": true
   },
   "outputs": [
    {
     "data": {
      "text/html": [
       "<div>\n",
       "<style scoped>\n",
       "    .dataframe tbody tr th:only-of-type {\n",
       "        vertical-align: middle;\n",
       "    }\n",
       "\n",
       "    .dataframe tbody tr th {\n",
       "        vertical-align: top;\n",
       "    }\n",
       "\n",
       "    .dataframe thead th {\n",
       "        text-align: right;\n",
       "    }\n",
       "</style>\n",
       "<table border=\"1\" class=\"dataframe\">\n",
       "  <thead>\n",
       "    <tr style=\"text-align: right;\">\n",
       "      <th></th>\n",
       "      <th>ROME</th>\n",
       "      <th>nom</th>\n",
       "    </tr>\n",
       "  </thead>\n",
       "  <tbody>\n",
       "    <tr>\n",
       "      <th>0</th>\n",
       "      <td>A1101</td>\n",
       "      <td>[Chauffeur / Chauffeuse de machines agricoles,...</td>\n",
       "    </tr>\n",
       "    <tr>\n",
       "      <th>1</th>\n",
       "      <td>A1201</td>\n",
       "      <td>[Arboriste, Arboriste grimpeur / grimpeuse, Bû...</td>\n",
       "    </tr>\n",
       "    <tr>\n",
       "      <th>2</th>\n",
       "      <td>A1202</td>\n",
       "      <td>[Agent / Agente d'aménagement des circuits péd...</td>\n",
       "    </tr>\n",
       "    <tr>\n",
       "      <th>3</th>\n",
       "      <td>A1203</td>\n",
       "      <td>[Agent / Agente d'entretien des parcs et jardi...</td>\n",
       "    </tr>\n",
       "    <tr>\n",
       "      <th>4</th>\n",
       "      <td>A1204</td>\n",
       "      <td>[Agent / Agente technique des parcs nationaux,...</td>\n",
       "    </tr>\n",
       "    <tr>\n",
       "      <th>...</th>\n",
       "      <td>...</td>\n",
       "      <td>...</td>\n",
       "    </tr>\n",
       "    <tr>\n",
       "      <th>527</th>\n",
       "      <td>N4301</td>\n",
       "      <td>[Agent / Agente de conduite du réseau ferré, C...</td>\n",
       "    </tr>\n",
       "    <tr>\n",
       "      <th>528</th>\n",
       "      <td>N4302</td>\n",
       "      <td>[Agent / Agente de contrôle des transports de ...</td>\n",
       "    </tr>\n",
       "    <tr>\n",
       "      <th>529</th>\n",
       "      <td>N4401</td>\n",
       "      <td>[Agent / Agente de circulation du réseau ferro...</td>\n",
       "    </tr>\n",
       "    <tr>\n",
       "      <th>530</th>\n",
       "      <td>N4402</td>\n",
       "      <td>[Agent / Agente d'exploitation des remontées m...</td>\n",
       "    </tr>\n",
       "    <tr>\n",
       "      <th>531</th>\n",
       "      <td>N4403</td>\n",
       "      <td>[Accrocheur / Accrocheuse de wagons du réseau ...</td>\n",
       "    </tr>\n",
       "  </tbody>\n",
       "</table>\n",
       "<p>532 rows × 2 columns</p>\n",
       "</div>"
      ],
      "text/plain": [
       "      ROME                                                nom\n",
       "0    A1101  [Chauffeur / Chauffeuse de machines agricoles,...\n",
       "1    A1201  [Arboriste, Arboriste grimpeur / grimpeuse, Bû...\n",
       "2    A1202  [Agent / Agente d'aménagement des circuits péd...\n",
       "3    A1203  [Agent / Agente d'entretien des parcs et jardi...\n",
       "4    A1204  [Agent / Agente technique des parcs nationaux,...\n",
       "..     ...                                                ...\n",
       "527  N4301  [Agent / Agente de conduite du réseau ferré, C...\n",
       "528  N4302  [Agent / Agente de contrôle des transports de ...\n",
       "529  N4401  [Agent / Agente de circulation du réseau ferro...\n",
       "530  N4402  [Agent / Agente d'exploitation des remontées m...\n",
       "531  N4403  [Accrocheur / Accrocheuse de wagons du réseau ...\n",
       "\n",
       "[532 rows x 2 columns]"
      ]
     },
     "execution_count": 9,
     "metadata": {},
     "output_type": "execute_result"
    }
   ],
   "source": [
    "metiers.groupby('ROME')['nom'].apply(list).reset_index()"
   ]
  },
  {
   "cell_type": "markdown",
   "metadata": {},
   "source": [
    "We save the dataframe into a CSV (but it will be saved without the groupby)."
   ]
  },
  {
   "cell_type": "code",
   "execution_count": 10,
   "metadata": {},
   "outputs": [],
   "source": [
    "metiers.to_csv('ROME_jobs.csv',encoding='utf-8', index=False, sep=';')"
   ]
  },
  {
   "cell_type": "markdown",
   "metadata": {},
   "source": [
    "Now that we have what we need. We'll use it 1) : to store the ROMEs linked to a job AND 2) scrapp all skills from a ROME\n",
    "\n",
    "# Part 2: Recommendation of skills\n",
    "\n",
    "## Getting top 5 skills from a Job\n",
    "\n",
    "### Get occurences of skills in a categorie (AXX)\n",
    "\n",
    "Given a job, we should be able to return the top 5 skills in the categorie of the job. \n",
    "Let's load the data."
   ]
  },
  {
   "cell_type": "code",
   "execution_count": 11,
   "metadata": {},
   "outputs": [],
   "source": [
    "import json\n",
    "    \n",
    "with open('DB/PE/PE_BDD.json', encoding = 'utf-8') as f:\n",
    "    myDict_jobs = json.load(f)"
   ]
  },
  {
   "cell_type": "markdown",
   "metadata": {},
   "source": [
    "Frist, from the name of a job, we'll get a ROME code then the first 3 char of the code (the categorie)"
   ]
  },
  {
   "cell_type": "code",
   "execution_count": 12,
   "metadata": {},
   "outputs": [],
   "source": [
    "def getCategorie(rome):\n",
    "    return rome[:3]\n",
    "\n",
    "def getRome(job):\n",
    "    for idex, row in metiers.iterrows():\n",
    "        if job in row['nom']:\n",
    "            return getCategorie(row['ROME'])"
   ]
  },
  {
   "cell_type": "markdown",
   "metadata": {},
   "source": [
    "After that, we'll compute the occurence of a skill in a categorie. In order to do that, we'll use our dictionnary containing all the skills per ROME sheet. "
   ]
  },
  {
   "cell_type": "code",
   "execution_count": 13,
   "metadata": {},
   "outputs": [],
   "source": [
    "def occCategorie(job = '', categorieROME = ''):\n",
    "    if(job != ''):\n",
    "        categorieROME = getCategorie(getRome(job))\n",
    "    skillsOccCategorie = {}\n",
    "    for dict in myDict_jobs:\n",
    "        if categorieROME in dict['ROME']:\n",
    "            for skill in dict['skills']:\n",
    "                if skill in skillsOccCategorie:\n",
    "                    skillsOccCategorie[skill] += 1\n",
    "                else:\n",
    "                    skillsOccCategorie[skill] = 1\n",
    "    return skillsOccCategorie"
   ]
  },
  {
   "cell_type": "markdown",
   "metadata": {},
   "source": [
    "### Top 5 of skills\n",
    "\n",
    "Now that we have a dictionnary with the most used skills in a categorie, we can sort it and get the top 5 (or top x) of the skills ! "
   ]
  },
  {
   "cell_type": "code",
   "execution_count": 14,
   "metadata": {},
   "outputs": [],
   "source": [
    "import operator\n",
    "\n",
    "def topSkills(job='', categorie = '', nb=5):\n",
    "    d = {}\n",
    "    if job != '':\n",
    "        d = occCategorie(job = job)\n",
    "    else:\n",
    "        d = occCategorie(categorieROME = categorie)\n",
    "    s = sorted(d.items(), key=operator.itemgetter(1), reverse=True)\n",
    "    s = s[:nb]\n",
    "    return s"
   ]
  },
  {
   "cell_type": "code",
   "execution_count": 15,
   "metadata": {},
   "outputs": [
    {
     "data": {
      "text/plain": [
       "[('Gestion comptable', 9),\n",
       " ('Gestion administrative', 9),\n",
       " ('Principes de la relation client', 9),\n",
       " ('Argumentation commerciale', 8),\n",
       " ('Techniques de vente', 8)]"
      ]
     },
     "execution_count": 15,
     "metadata": {},
     "output_type": "execute_result"
    }
   ],
   "source": [
    "topSkills(job = 'Vendeur / Vendeuse en informatique')"
   ]
  },
  {
   "cell_type": "markdown",
   "metadata": {},
   "source": [
    "## Getting top 5 skills of the \"best\" categorie of a skill\n",
    "\n",
    "Now, given a skill, we'll check the occurences in all the categories. \n",
    "Once we've got the categorie where the skills appears the most, we'll get the top 5 of the skills from this categorie.\n",
    "\n",
    "Of course, we'll re use topSkills method. But first, we need to get this categorie !"
   ]
  },
  {
   "cell_type": "code",
   "execution_count": 16,
   "metadata": {},
   "outputs": [],
   "source": [
    "def occSkills(skill):\n",
    "    skillsOccCategorie = {}\n",
    "    for dict in myDict_jobs:\n",
    "        if skill in dict['skills']:\n",
    "            categorie = dict['ROME'][:3]\n",
    "            if categorie in skillsOccCategorie:\n",
    "                skillsOccCategorie[categorie] += 1\n",
    "            else:\n",
    "                skillsOccCategorie[categorie] = 1\n",
    "    return skillsOccCategorie"
   ]
  },
  {
   "cell_type": "code",
   "execution_count": 17,
   "metadata": {},
   "outputs": [],
   "source": [
    "def topSkillsFromSkill(skill):\n",
    "    d= occSkills(skill)\n",
    "    s = sorted(d.items(), key=operator.itemgetter(1), reverse=True)\n",
    "    return topSkills(categorie = s[0][0])"
   ]
  },
  {
   "cell_type": "code",
   "execution_count": 18,
   "metadata": {},
   "outputs": [
    {
     "data": {
      "text/plain": [
       "[('Droit civil', 3),\n",
       " ('Droit commercial', 3),\n",
       " ('Droit du travail', 3),\n",
       " ('Droit notarial', 2),\n",
       " ('Droit européen', 2)]"
      ]
     },
     "execution_count": 18,
     "metadata": {},
     "output_type": "execute_result"
    }
   ],
   "source": [
    "topSkillsFromSkill(\"Droit du travail\")"
   ]
  }
 ],
 "metadata": {
  "kernelspec": {
   "display_name": "Python 3.8.2 64-bit",
   "language": "python",
   "name": "python38264bitcc3429c233844a068a49bedb3a501840"
  },
  "language_info": {
   "codemirror_mode": {
    "name": "ipython",
    "version": 3
   },
   "file_extension": ".py",
   "mimetype": "text/x-python",
   "name": "python",
   "nbconvert_exporter": "python",
   "pygments_lexer": "ipython3",
   "version": "3.8.2"
  }
 },
 "nbformat": 4,
 "nbformat_minor": 4
}
